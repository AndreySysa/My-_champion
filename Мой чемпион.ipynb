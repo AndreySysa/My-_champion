{
 "cells": [
  {
   "cell_type": "code",
   "execution_count": null,
   "id": "02a35935-4141-46ab-b6b7-471efa002c94",
   "metadata": {},
   "outputs": [],
   "source": []
  },
  {
   "cell_type": "markdown",
   "id": "07fe62a7-b29f-4fbf-aca8-9a3a7615c459",
   "metadata": {},
   "source": [
    "Сервис  “Мой Чемпион” помогает спортивным школам фигурного катания, тренерам мониторить результаты своих подопечных и планировать дальнейшее развитие спортсменов."
   ]
  },
  {
   "cell_type": "code",
   "execution_count": null,
   "id": "76db34c6-11d8-4d28-85e1-190119aed2e1",
   "metadata": {},
   "outputs": [],
   "source": []
  }
 ],
 "metadata": {
  "kernelspec": {
   "display_name": "Python 3 (ipykernel)",
   "language": "python",
   "name": "python3"
  },
  "language_info": {
   "codemirror_mode": {
    "name": "ipython",
    "version": 3
   },
   "file_extension": ".py",
   "mimetype": "text/x-python",
   "name": "python",
   "nbconvert_exporter": "python",
   "pygments_lexer": "ipython3",
   "version": "3.9.5"
  }
 },
 "nbformat": 4,
 "nbformat_minor": 5
}
